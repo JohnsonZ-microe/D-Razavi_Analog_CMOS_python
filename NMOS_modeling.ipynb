{
 "cells": [
  {
   "cell_type": "markdown",
   "metadata": {},
   "source": [
    "# 对NMOS与PMOS的数学建模"
   ]
  },
  {
   "cell_type": "code",
   "execution_count": 1,
   "metadata": {},
   "outputs": [],
   "source": [
    "# imports\n",
    "%matplotlib ipympl\n",
    "import matplotlib.pyplot as plt\n",
    "import matplotlib\n",
    "matplotlib.rcParams['font.sans-serif'] = ['FangSong'] # 指定默认字体\n",
    "matplotlib.rcParams['axes.unicode_minus'] = False # 解决保存图像是负号'-'显示为方块的问题\n",
    "\n",
    "import numpy as np\n",
    "import math\n",
    "import mpl_interactions.ipyplot as iplt"
   ]
  },
  {
   "cell_type": "markdown",
   "metadata": {},
   "source": [
    "- $\\mu_n=1450cm^2/(V\\cdot s)$：硅中电子迁移率\n",
    "- $C_{ox}$(单位面积的栅氧化层电容) 与栅氧化层厚度成反比 $t_{ox}$, 当$t_{ox}\\approx20\\dot{A}$,$C_{ox}\\approx 17.25fF/\\mu m^2$\n",
    "(引自拉扎维Design of Analog CMOS Integrated Circuits,Second Edition p11)\n",
    "$$ C_{ox}=\\frac{\\varepsilon_{ox}}{t_{ox}} $$"
   ]
  },
  {
   "cell_type": "markdown",
   "metadata": {},
   "source": [
    "## MOS管模型参数定义\n",
    "\n",
    "### NMOS模型参数"
   ]
  },
  {
   "cell_type": "code",
   "execution_count": 2,
   "metadata": {},
   "outputs": [],
   "source": [
    "#%%  NMOS模型定义\n",
    "# % 0.5um Level 1 NMOS SPICE模型\n",
    "\n",
    "# % 参数定义\n",
    "# % NMOS模型\n",
    "# % LEVEL =1 VTO = 0.7 GAMMA = 0.45 PHI = 0.9\n",
    "# % NSUB = 9e+14 LD = 0.08e-6 UO= 350 LAMBDA = 0.1\n",
    "# % TOX = 9e-9 PB= 0.9 CJ = 0.56e-3 CJSW = 0.35e-11\n",
    "# % MJ = 0.45 MJSW = 0.2 CGDO = 0.4e-9 JS= 1.0e-8\n",
    "\n",
    "class MOS_Electrical_Characteristics:\n",
    "    V_G = 0       #栅极电位，单位: V\n",
    "    V_S = 0       #源极电位，单位: V\n",
    "    V_D = 0       #漏极电位，单位: V\n",
    "    V_GS = V_G - V_S\n",
    "    V_DS = V_D - V_S\n",
    "    \n",
    "    I_D = 0       #沟道电流，单位：A\n",
    "    gm = 0        #跨导，单位：A/V\n",
    "    R_on = 0  #固有电阻，单位：Ohm\n",
    "    ro = 0    #输出电阻，单位：Ohm\n",
    "    \n",
    "    def __init__(self, V_G=0, V_S=0, V_D=0, I_D=0, gm=0, R_on=0, ro=0):\n",
    "        self.V_G = V_G\n",
    "        self.V_S = V_S\n",
    "        self.V_D = V_D\n",
    "        self.I_D = I_D\n",
    "        self.gm = gm\n",
    "        self.R_on = R_on\n",
    "        self.ro = ro\n",
    "        \n",
    "class NMOS_physics:\n",
    "    MOS_Type = 'NMOS'\n",
    "    V_T = 0.7    #NMOS沟道电流(threshold voltage of NMOS)   单位: V\n",
    "    NSUB = 9e14   #衬底掺杂浓度(substrate doping),   单位:cm-3\n",
    "    UO = 350      #载流子迁移率(channel mobility),   单位:cm2/V/s\n",
    "    LAMBDA = 0.1   #沟道调制效应系数(channel-length modulation coefficient)  单位:V-1\n",
    "    GAMMA = 0.45   #体效应系数(body effect coefficient)\n",
    "    PHI = 0.9      #两倍的费米势\n",
    "    T_ox = 9e-7    #栅极氧化层厚度  单位：cm\n",
    "    C_ox = 3.9*8.85e-14 / 9e-7       #栅极氧化层电容  单位：F/cm2\n",
    "    L = 0.5                        #NMOS沟道长度， 单位: um\n",
    "    W = 50                         #NMOS栅宽，     单位: um\n",
    "    L_eff = 0.34                   #NMOS沟道有效长度，取源漏侧扩散长度为0.08um\n",
    "    \n",
    "    \n",
    "    EC = MOS_Electrical_Characteristics()\n",
    "    \n",
    "\n",
    "    # 工作区编号，0:截止区， 1：三极管区，  2：饱和区\n",
    "    working_region = 0\n",
    "    \n",
    "    # 二级效应\n",
    "    channel_length_modulation_considered=False\n",
    "    \n",
    "    def __init__(self, name, T_ox=9e-7, W=50, L=0.5):\n",
    "        self.name = name\n",
    "        self.T_ox = T_ox\n",
    "        self.C_ox = 3.9*8.85e-14 / T_ox\n",
    "        self.W = 50\n",
    "        self.L = 0.5\n",
    "        self.L_eff = self.L - 2*0.08\n",
    "    \n",
    "    \n",
    "    #施加栅源、漏源电压\n",
    "    def Apply_voltage_upon(self, V_G, V_S, V_D):\n",
    "        self.EC.V_G = V_G\n",
    "        self.EC.V_S = V_S\n",
    "        self.EC.V_D = V_D\n",
    "        self.EC.V_GS = V_G - V_S\n",
    "        self.EC.V_DS = V_D - V_S\n",
    "    \n",
    "    \n",
    "    #描述\n",
    "    def Description(self):\n",
    "        print(f\"{self.name}为长为{self.L}um,宽为{self.W}um, V_GS为{self.EC.V_GS},V_DS为{self.EC.V_DS}的NMOS管\")\n"
   ]
  },
  {
   "cell_type": "markdown",
   "metadata": {},
   "source": [
    "### PMOS模型参数"
   ]
  },
  {
   "cell_type": "code",
   "execution_count": 3,
   "metadata": {},
   "outputs": [],
   "source": [
    "# % 0.5um Level 1 PMOS SPICE模型\n",
    "\n",
    "# % PMOS模型\n",
    "# % LEVEL =1 VTO = -0.8 GAMMA = 0.4 PHI = 0.8\n",
    "# % PSUB = 5e+14 LD = 0.09e-6 UO= 100 LAMBDA = 0.2\n",
    "# % TOX = 9e-9 PB= 0.9 CJ = 0.94e-3 CJSW = 0.32e-11\n",
    "# % MJ = 0.5 MJSW = 0.3 CGDO = 0.3e-9 JS= 0.5e-8\n",
    "class PMOS_physics:\n",
    "    MOS_Type = 'PMOS'\n",
    "    V_T = -0.8    #PMOS沟道电流(threshold voltage of PMOS)   单位: V\n",
    "    PSUB = 5e14   #衬底掺杂浓度(substrate doping),   单位:cm-3\n",
    "    UO = 100      #载流子迁移率(channel mobility),   单位:cm2/V/s\n",
    "    LAMBDA = 0.2   #沟道调制效应系数(channel-length modulation coefficient)  单位:V-1\n",
    "    GAMMA = 0.4   #体效应系数(body effect coefficient)\n",
    "    PHI = 0.8      #两倍的费米势\n",
    "    T_ox = 9e-7    #栅极氧化层厚度  单位：cm\n",
    "    C_ox = 3.9*8.85e-14 / 9e-7       #栅极氧化层电容  单位：F/cm2\n",
    "    L = 0.5                        #NMOS沟道长度， 单位: um\n",
    "    W = 50                         #NMOS栅宽，     单位: um\n",
    "    L_eff = 0.32                   #NMOS沟道有效长度，取源漏侧扩散长度为0.09um\n",
    "    \n",
    "    \n",
    "    EC = MOS_Electrical_Characteristics()\n",
    "    \n",
    "    \n",
    "    # 工作区编号，0:截止区， 1：三极管区，  2：饱和区\n",
    "    working_region = 0\n",
    "    \n",
    "    # 二级效应\n",
    "    channel_length_modulation_considered=False\n",
    "    \n",
    "    def __init__(self, name, T_ox=9e-7, W=50, L=0.5):\n",
    "        self.name = name\n",
    "        self.T_ox = T_ox\n",
    "        self.C_ox = 3.9*8.85e-14 / T_ox\n",
    "        self.W = 50\n",
    "        self.L = 0.5\n",
    "        self.L_eff = self.L - 2*0.08\n",
    "    \n",
    "    \n",
    "    #施加栅源、漏源电压\n",
    "    def Apply_voltage_upon(self, V_G, V_S, V_D):\n",
    "        self.EC.V_G = V_G\n",
    "        self.EC.V_S = V_S\n",
    "        self.EC.V_D = V_D\n",
    "        self.EC.V_GS = V_G - V_S\n",
    "        self.EC.V_DS = V_D - V_S\n",
    "    \n",
    "    \n",
    "    #描述\n",
    "    def Description(self):\n",
    "        print(f\"{self.name}为长为{self.L}um,宽为{self.W}um, V_GS为{self.EC.V_GS},V_DS为{self.EC.V_DS}的NMOS管\")"
   ]
  },
  {
   "cell_type": "code",
   "execution_count": 4,
   "metadata": {},
   "outputs": [],
   "source": [
    "#%% 函数定义  \n",
    "#确定工作区\n",
    "def Working_region_determine(\n",
    "    MOS,                   #MOS对象\n",
    "    message_print=0        #当message_print设定为1时，打印MOS管当前处于的工作区\n",
    "    ):             \n",
    "    if MOS.MOS_Type == 'NMOS':\n",
    "        if MOS.EC.V_GS < MOS.V_T:\n",
    "            if message_print == 1:\n",
    "                print(MOS.name,\"处于截止区\")\n",
    "            MOS.working_region = 0\n",
    "        elif MOS.EC.V_GS - MOS.V_T < MOS.EC.V_DS:\n",
    "            if message_print == 1:\n",
    "                print(MOS.name,\"处于饱和区\")\n",
    "            MOS.working_region = 2\n",
    "        else:\n",
    "            if message_print == 1:\n",
    "                print(MOS.name,\"处于三极管区\")\n",
    "            MOS.working_region = 1\n",
    "    else:\n",
    "        if MOS.EC.V_GS > MOS.V_T:\n",
    "            if message_print == 1:\n",
    "                print(MOS.name,\"处于截止区\")\n",
    "            MOS.working_region = 0\n",
    "        elif MOS.EC.V_GS - MOS.V_T > MOS.EC.V_DS:\n",
    "            if message_print == 1:\n",
    "                print(MOS.name,\"处于饱和区\")\n",
    "            MOS.working_region = 2\n",
    "        else:\n",
    "            if message_print == 1:\n",
    "                print(MOS.name,\"处于三极管区\")\n",
    "            MOS.working_region = 1\n",
    "    return MOS.working_region"
   ]
  },
  {
   "cell_type": "markdown",
   "metadata": {},
   "source": [
    "## 体效应与阈值电压：\n",
    "\n",
    "   $$ V_{TH0}=\\Phi_{MS}+2\\Phi_F+\\frac{Q_{dep}}{C_{ox}} \\qquad (2.1) $$\n",
    "\n",
    "- $Q_{dep}$：耗尽区载流子总数\n",
    "- $\\Phi_{MS}$ ：硅与金属之间的功函数差 \n",
    "- $q=1.602 × 10^{-19} C$: 电子电荷量\n",
    "\n",
    "   $$ Q_{dep}=\\sqrt{4q\\varepsilon_{si}|\\Phi_F|N_{sub}} $$\n",
    "\n",
    "-  $N_{sub}$ ：衬底掺杂浓度\n",
    "-  $$\\varepsilon_{si}=\\varepsilon_{r\\cdot si}\\times\\varepsilon_{0}=11.8\\times(8.85\\times10^{-14})F/cm = 1.0443\\times10^{-12}F/cm$$\n",
    "\n",
    "费米势：\n",
    "$$    \\Phi_F=\\frac{kT}{q}ln(\\frac{N_{sub}}{n_i})  $$\n",
    "\n",
    "本征费米能级$E_i$与费米能级$E_F$之差除以电子电荷量q称为P型衬底的费米势$\\Phi_{F}$\n",
    "- $k=1.38\\times10^{-23} m^2kgs^{-2}K^{-1}$\n",
    "- 无论对于NMOS还是PMOS而言，体效应中$V_B$越低，$|V_{TH}|$越高，关系式为\n",
    "\n",
    "  $$  V_{TH}=V_{TH0}+\\gamma(\\sqrt{2\\Phi_F+V_{SB}}-\\sqrt{2|\\Phi_F|}) $$\n",
    "\n",
    "\n",
    "\n",
    "$$ \\gamma=\\frac{\\sqrt{2q\\varepsilon_{si}N_{sub}}}{C_{ox}}  $$\n",
    "\n"
   ]
  },
  {
   "cell_type": "code",
   "execution_count": 5,
   "metadata": {},
   "outputs": [],
   "source": [
    "def Threshold_Voltage(\n",
    "    MOS,         #MOS管对象\n",
    "    VB_def      #衬底电位\n",
    "    ):\n",
    "    V_SB = MOS.EC.V_S-VB_def\n",
    "    print(f\"V_SB={V_SB}V\")\n",
    "    if MOS.MOS_Type == 'NMOS':\n",
    "        MOS.V_T = MOS.V_T + MOS.GAMMA*(math.sqrt(MOS.PHI+V_SB)-math.sqrt(MOS.PHI));\n",
    "    else:\n",
    "        MOS.V_T = MOS.V_T - MOS.GAMMA*(math.sqrt(MOS.PHI+V_SB)-math.sqrt(MOS.PHI));"
   ]
  },
  {
   "cell_type": "code",
   "execution_count": 6,
   "metadata": {},
   "outputs": [
    {
     "name": "stdout",
     "output_type": "stream",
     "text": [
      "V_SB=1V\n",
      "0.8933747097213287\n",
      "M1 处于饱和区\n"
     ]
    },
    {
     "data": {
      "text/plain": [
       "2"
      ]
     },
     "execution_count": 6,
     "metadata": {},
     "output_type": "execute_result"
    }
   ],
   "source": [
    "#%% 阈值电压计算\n",
    "M1 = NMOS_physics('M1')\n",
    "M1.Apply_voltage_upon(4, 0, 4)\n",
    "Threshold_Voltage(M1, -1)\n",
    "print(M1.V_T)\n",
    "Working_region_determine(M1, message_print=1)"
   ]
  },
  {
   "cell_type": "markdown",
   "metadata": {},
   "source": [
    "## CMOS 大信号模型\n",
    "\n",
    "\n",
    "$$I_D=\\mu_n C_{ox} \\frac{W}{L}[(V_{GS}-V_{TH})V_{DS}-\\frac{(V_{DS})^2}{2}] \\qquad (2.8) $$\n",
    "\n",
    "\n",
    "$$I_D=\\frac{1}{2}\\mu_n C_{ox}\\frac{W}{L'}(V_{GS}-V_{TH})^2 \\qquad (2.13)  $$\n",
    "\n",
    "设定$I_D$ 从漏极流向源级, 故PMOS中\n",
    "\n",
    "$$I_D=-\\mu_n C_{ox} \\frac{W}{L}[(V_{GS}-V_{TH})V_{DS}-\\frac{(V_{DS})^2}{2}]$$\n",
    "\n",
    "$$I_D=-\\frac{1}{2}\\mu_n C_{ox}\\frac{W}{L'}(V_{GS}-V_{TH})^2$$\n"
   ]
  },
  {
   "cell_type": "code",
   "execution_count": 7,
   "metadata": {},
   "outputs": [],
   "source": [
    "#计算沟道电流\n",
    "def Drain_current_culculate(MOS):\n",
    "    if MOS.MOS_Type == 'NMOS':\n",
    "        if MOS.working_region == 0:\n",
    "            MOS.EC.I_D = 0\n",
    "        elif MOS.working_region == 1:\n",
    "            MOS.EC.I_D = MOS.UO*MOS.C_ox*(MOS.W/MOS.L_eff)*((MOS.EC.V_GS-MOS.V_T)*MOS.EC.V_DS-MOS.EC.V_DS**2/2);\n",
    "        else:\n",
    "            if MOS.channel_length_modulation_considered==False:\n",
    "                MOS.EC.I_D = ((MOS.UO*MOS.C_ox*(MOS.W/MOS.L_eff)*(MOS.EC.V_GS-MOS.V_T)**2))/2;\n",
    "            else:\n",
    "                MOS.EC.I_D = ((MOS.UO*MOS.C_ox*(MOS.W/MOS.L_eff)*(MOS.EC.V_GS-MOS.V_T)**2)*(1+MOS.LAMBDA*MOS.EC.V_DS))/2;\n",
    "    else:\n",
    "        if MOS.working_region == 0:\n",
    "            MOS.EC.I_D = 0\n",
    "        elif MOS.working_region == 1:\n",
    "            MOS.EC.I_D = -MOS.UO*MOS.C_ox*(MOS.W/MOS.L_eff)*((MOS.EC.V_GS-MOS.V_T)*MOS.EC.V_DS-MOS.EC.V_DS**2/2);\n",
    "        else:\n",
    "            if MOS.channel_length_modulation_considered==False:\n",
    "                MOS.EC.I_D = -((MOS.UO*MOS.C_ox*(MOS.W/MOS.L_eff)*(MOS.EC.V_GS-MOS.V_T)**2))/2;\n",
    "            else:\n",
    "                MOS.EC.I_D = -((MOS.UO*MOS.C_ox*(MOS.W/MOS.L_eff)*(MOS.EC.V_GS-MOS.V_T)**2)*(1+MOS.LAMBDA*MOS.EC.V_DS))/2;\n",
    "    return MOS.EC.I_D\n",
    "\n",
    "\n",
    "#绘制转移特性曲线\n",
    "def Transfer_curve_plot(MOS):\n",
    "    fig = plt.figure()\n",
    "    ax = fig.subplots()  # Create a figure and an axes.\n",
    "    plt.subplots_adjust(left=0.3, bottom=0.25)\n",
    "    def calculate_ID(V_D, V_G):\n",
    "        I_D = []\n",
    "        for i in V_D:\n",
    "            if MOS.MOS_Type == 'NMOS':\n",
    "                MOS.Apply_voltage_upon(V_G, 0, i)     \n",
    "            else:\n",
    "                MOS.Apply_voltage_upon(V_G, 5, i)     \n",
    "            Working_region_determine(MOS)\n",
    "            I_update = Drain_current_culculate(MOS)\n",
    "            I_D.append(I_update)\n",
    "        return I_D\n",
    "    V_D = np.linspace(0,5,100)\n",
    "    controls = iplt.plot(V_D, calculate_ID, V_G=(0,5,100))\n",
    "    ax.set_xlabel(\"沟道电压 V\")  # 加入x-label\n",
    "    ax.set_ylabel('沟道电流 A')  # 加入y-label\n",
    "    ax.grid()   #加入标尺\n",
    "    if MOS.MOS_Type == 'NMOS':\n",
    "        ax.set_ylim(0,0.14)\n",
    "        ax.set_title(\"NMOS转移特性曲线\")  # 加入标题\n",
    "    else:\n",
    "        ax.set_title(\"PMOS转移特性曲线\")  # 加入标题\n",
    "        ax.set_ylim(-0.06,0)\n",
    "        \n",
    "    t1 = ax.text(-0.3, -0.35, 'V_DS = %s'%MOS.EC.V_DS, style='italic', fontsize=12, \n",
    "        bbox={'facecolor': 'grey', 'alpha': 0.5, 'pad': 10}, transform=ax.transAxes)\n",
    "    t2 = ax.text(-0.3, -0.2, 'V_GS = %s'%MOS.EC.V_GS, style='italic', fontsize=12, \n",
    "        bbox={'facecolor': 'grey', 'alpha': 0.5, 'pad': 10}, transform=ax.transAxes)\n",
    "    \n",
    "    def my_callback(V_G):\n",
    "      t1.set_text('V_DS = %s'%MOS.EC.V_DS)\n",
    "      t2.set_text('V_GS = %s'%MOS.EC.V_GS)\n",
    "    controls.register_callback(my_callback, [\"V_G\"], eager=True)\n",
    "    \n"
   ]
  },
  {
   "cell_type": "code",
   "execution_count": 8,
   "metadata": {},
   "outputs": [
    {
     "name": "stdout",
     "output_type": "stream",
     "text": [
      "M1为长为0.5um,宽为50um, V_GS为0,V_DS为0的NMOS管\n"
     ]
    },
    {
     "data": {
      "application/vnd.jupyter.widget-view+json": {
       "model_id": "85ce86e5f34245f3b17f04827ee43106",
       "version_major": 2,
       "version_minor": 0
      },
      "text/plain": [
       "Canvas(toolbar=Toolbar(toolitems=[('Home', 'Reset original view', 'home', 'home'), ('Back', 'Back to previous …"
      ]
     },
     "metadata": {},
     "output_type": "display_data"
    },
    {
     "data": {
      "application/vnd.jupyter.widget-view+json": {
       "model_id": "219f40e00a8c478481027ee0adf93c96",
       "version_major": 2,
       "version_minor": 0
      },
      "text/plain": [
       "VBox(children=(HBox(children=(IntSlider(value=0, description='V_G', max=99, readout=False), Label(value='0.00'…"
      ]
     },
     "metadata": {},
     "output_type": "display_data"
    }
   ],
   "source": [
    "#%% PMOS转移特性曲线实现\n",
    "M1 = PMOS_physics('M1')\n",
    "M1.Description()\n",
    "Transfer_curve_plot(M1)"
   ]
  },
  {
   "cell_type": "code",
   "execution_count": 9,
   "metadata": {},
   "outputs": [
    {
     "name": "stdout",
     "output_type": "stream",
     "text": [
      "M1为长为0.5um,宽为50um, V_GS为4,V_DS为4的NMOS管\n"
     ]
    },
    {
     "data": {
      "application/vnd.jupyter.widget-view+json": {
       "model_id": "62c814d1ffd84257b9508f05faa92739",
       "version_major": 2,
       "version_minor": 0
      },
      "text/plain": [
       "Canvas(toolbar=Toolbar(toolitems=[('Home', 'Reset original view', 'home', 'home'), ('Back', 'Back to previous …"
      ]
     },
     "metadata": {},
     "output_type": "display_data"
    },
    {
     "data": {
      "application/vnd.jupyter.widget-view+json": {
       "model_id": "13c5e4e3a8b14d06bd26584d62ceb865",
       "version_major": 2,
       "version_minor": 0
      },
      "text/plain": [
       "VBox(children=(HBox(children=(IntSlider(value=0, description='V_G', max=99, readout=False), Label(value='0.00'…"
      ]
     },
     "metadata": {},
     "output_type": "display_data"
    }
   ],
   "source": [
    "#%% NMOS实现\n",
    "M1 = NMOS_physics('M1')\n",
    "M1.Description()\n",
    "Transfer_curve_plot(M1)"
   ]
  },
  {
   "cell_type": "markdown",
   "metadata": {},
   "source": [
    "## 饱和区输出阻抗(Output impedance)深三极管区的固有电阻(intrinsic resistance)\n",
    "\n",
    "**饱和区输出阻抗计算公式**\n",
    "$$   r_O=\\frac{\\partial V_{DS}}{\\partial I_D}  \\qquad (2.44)  $$\n",
    "    \n",
    "  $$  =\\frac{1}{\\frac{1}{2}\\mu C_{ox} \\frac{W}{L} (V_{GS}-V_{TH})^2 \\cdot \\lambda} \\qquad (2.46) $$\n",
    "    \n",
    "  $$  = \\frac{1+\\lambda V_{DS}}{\\lambda I_D}\\qquad (2.47) $$\n",
    "    \n",
    "$$    = \\frac{1}{\\lambda I_D}    \\qquad (2.48) \\qquad (\\lambda V_{DS}\\ll 1)   $$\n",
    "    \n",
    "\n",
    "深三极管区的固有电阻为MOSFET输出阻抗的最小值，这可以通过转移特性曲线看的出来\n",
    "\n",
    "$$R_{on}=\\frac{1}{\\mu_n C_{ox} \\frac{W}{L}(V_{GS}-V_{TH})}  \\qquad(2.11) $$\n"
   ]
  },
  {
   "cell_type": "code",
   "execution_count": 10,
   "metadata": {},
   "outputs": [],
   "source": [
    "#%% 计算输出阻抗\n",
    "def Output_impedance(\n",
    "        MOS,\n",
    "        equation_number=0      #选择公式，0：式（2.48）；1：式（2.46）\n",
    "        ):       \n",
    "    if equation_number == 0:\n",
    "        MOS.EC.ro = 1/(MOS.LAMBDA*MOS.EC.I_D);      #此式须首先计算出I_D后才能使用\n",
    "    else:\n",
    "        MOS.EC.ro = 1/((MOS.LAMBDA*MOS.UO_N*MOS.Cox*(MOS.W/MOS.L_eff)*(MOS.EC.V_GS-MOS.V_T)**2)/2);\n",
    "    print(f'该MOS管的输出阻抗为{MOS.EC.ro}Ohm')\n",
    "    return MOS.EC.ro"
   ]
  },
  {
   "cell_type": "code",
   "execution_count": 11,
   "metadata": {},
   "outputs": [],
   "source": [
    "def Intrinsic_Resistance(MOS):\n",
    "    MOS.EC.R_on = 1/(MOS.UO*MOS.C_ox*(MOS.W/MOS.L)*(MOS.EC.V_GS-MOS.V_T))\n",
    "    print(f'该MOS管的固有电阻为{MOS.EC.R_on}Ohm')\n",
    "    return MOS.EC.R_on"
   ]
  },
  {
   "cell_type": "code",
   "execution_count": 12,
   "metadata": {},
   "outputs": [
    {
     "name": "stdout",
     "output_type": "stream",
     "text": [
      "该MOS管的固有电阻为32.3920736595755Ohm\n",
      "该MOS管的输出阻抗为191.53573990009863Ohm\n"
     ]
    },
    {
     "data": {
      "text/plain": [
       "191.53573990009863"
      ]
     },
     "execution_count": 12,
     "metadata": {},
     "output_type": "execute_result"
    }
   ],
   "source": [
    "#%% 固有电阻计算\n",
    "M1 = NMOS_physics('M1')\n",
    "M1.Apply_voltage_upon(V_G=3, V_S=0, V_D=4)\n",
    "Working_region_determine(M1)\n",
    "Drain_current_culculate(M1)\n",
    "Intrinsic_Resistance(M1)\n",
    "Output_impedance(M1,equation_number=0)"
   ]
  },
  {
   "cell_type": "markdown",
   "metadata": {},
   "source": [
    "## MOS饱和区跨导(transconductance)\n",
    "单位: S(siemens 西门子)\n",
    " $$   g_m=\\frac{\\partial I_D}{\\partial V_{GS}} \\qquad (2.17)  $$\n",
    "\n",
    "\n",
    " $$ g_m=\\mu_nC_{ox}\\frac{W}{L}(V_{GS}-V_{TH}) \\qquad (2.18) $$\n",
    " \n",
    "$g_m$ 也可以表达为:\n",
    " $$   g_m=\\sqrt{2\\mu C_{ox}\\frac{W}{L}I_D} \\qquad (2.19)  $$\n",
    " \n",
    "    \n",
    " $$  g_m = \\frac{2I_D}{V_{GS}-V_{TH}} \\qquad (2.20)  $$\n",
    "考虑沟道长度调制效应后：\n",
    "\n",
    "$$ g_m=\\mu_nC_{ox}\\frac{W}{L}(V_{GS}-V_{TH})(1+\\lambda V_{DS})\\\\=\\sqrt{2\\mu C_{ox}\\frac{W}{L}I_D(1+\\lambda V_{DS})}  $$\n",
    "\n",
    "该函数可以根据equation_number值的不同选用不同的公式对跨导进行计算"
   ]
  },
  {
   "cell_type": "code",
   "execution_count": 13,
   "metadata": {},
   "outputs": [],
   "source": [
    "def Transconductaance_calcaulate(MOS,\n",
    "                                 equation_number=0  #0: 式(2.18)  1:#式(2.19), 2:#式(2.20)\n",
    "                                 ):\n",
    "    if MOS.channel_length_modulation_considered==True:\n",
    "        if equation_number==0:\n",
    "            MOS.EC.gm = MOS.UO*MOS.C_ox*(MOS.W/MOS.L)*(MOS.EC.V_GS-MOS.V_T)*(1+MOS.LAMBDA*MOS.EC.V_DS); #式(2.18)\n",
    "        elif equation_number==1:\n",
    "            MOS.EC.gm = math.sqrt(2*MOS.UO*MOS.C_ox*(MOS.W/MOS.L)*MOS.EC.I_D*(1+MOS.LAMBDA*MOS.EC.V_DS));  #式(2.19)\n",
    "        else:\n",
    "            MOS.EC.gm = 2*MOS.EC.I_D/(MOS.EC.V_GS-MOS.V_T);            #式(2.20)'\n",
    "    else:\n",
    "        if equation_number==0:\n",
    "            MOS.EC.gm = MOS.UO*MOS.C_ox*(MOS.W/MOS.L)*(MOS.EC.V_GS-MOS.V_T); #式(2.18)\n",
    "        elif equation_number==1:\n",
    "            MOS.EC.gm = math.sqrt(2*MOS.UO*MOS.C_ox*(MOS.W/MOS.L)*MOS.EC.I_D);  #式(2.19)\n",
    "        else:\n",
    "            MOS.EC.gm = 2*MOS.EC.I_D/(MOS.EC.V_GS-MOS.V_T);            #式(2.20)'\n",
    "    return MOS.EC.gm"
   ]
  },
  {
   "attachments": {
    "image.png": {
     "image/png": "[encoded data removed]"
    }
   },
   "cell_type": "markdown",
   "metadata": {},
   "source": [
    "以书上的习题2.2为例进行建模\n",
    "![image.png](attachment:image.png)\n",
    "由于本例我们只知道沟道电流，而对各个端口的点位不清楚，故应选择式(2.19)计算跨导"
   ]
  },
  {
   "cell_type": "code",
   "execution_count": 15,
   "metadata": {},
   "outputs": [
    {
     "name": "stdout",
     "output_type": "stream",
     "text": [
      "跨导为0.00366S\n",
      "该MOS管的输出阻抗为20000.0Ohm\n",
      "本征增益为73.273\n"
     ]
    }
   ],
   "source": [
    "M1 = NMOS_physics('M1')\n",
    "M1.EC.I_D=0.0005         #0.5mA\n",
    "gm=Transconductaance_calcaulate(M1,equation_number=1)\n",
    "print(f'跨导为{gm:.5f}S')\n",
    "ro = Output_impedance(M1)\n",
    "A_intr = gm*ro\n",
    "print(f'本征增益为{A_intr:.3f}')"
   ]
  },
  {
   "cell_type": "code",
   "execution_count": null,
   "metadata": {},
   "outputs": [],
   "source": []
  }
 ],
 "metadata": {
  "kernelspec": {
   "display_name": "Python 3",
   "language": "python",
   "name": "python3"
  },
  "language_info": {
   "codemirror_mode": {
    "name": "ipython",
    "version": 3
   },
   "file_extension": ".py",
   "mimetype": "text/x-python",
   "name": "python",
   "nbconvert_exporter": "python",
   "pygments_lexer": "ipython3",
   "version": "3.8.5"
  },
  "toc": {
   "base_numbering": 1,
   "nav_menu": {},
   "number_sections": true,
   "sideBar": true,
   "skip_h1_title": false,
   "title_cell": "Table of Contents",
   "title_sidebar": "Contents",
   "toc_cell": false,
   "toc_position": {},
   "toc_section_display": true,
   "toc_window_display": true
  },
  "varInspector": {
   "cols": {
    "lenName": 16,
    "lenType": 16,
    "lenVar": 40
   },
   "kernels_config": {
    "python": {
     "delete_cmd_postfix": "",
     "delete_cmd_prefix": "del ",
     "library": "var_list.py",
     "varRefreshCmd": "print(var_dic_list())"
    },
    "r": {
     "delete_cmd_postfix": ") ",
     "delete_cmd_prefix": "rm(",
     "library": "var_list.r",
     "varRefreshCmd": "cat(var_dic_list()) "
    }
   },
   "types_to_exclude": [
    "module",
    "function",
    "builtin_function_or_method",
    "instance",
    "_Feature"
   ],
   "window_display": false
  }
 },
 "nbformat": 4,
 "nbformat_minor": 4
}
